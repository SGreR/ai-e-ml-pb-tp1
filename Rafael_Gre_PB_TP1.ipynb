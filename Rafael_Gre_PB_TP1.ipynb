{
  "cells": [
    {
      "cell_type": "markdown",
      "metadata": {
        "id": "DRqSJnAJ8OKK"
      },
      "source": [
        "# Importação das bibliotecas necessárias:"
      ]
    },
    {
      "cell_type": "code",
      "execution_count": 7,
      "metadata": {
        "id": "Z7Qm4fVg8VRP"
      },
      "outputs": [],
      "source": [
        "import pandas as pd\n",
        "import numpy as np\n",
        "from sklearn.model_selection import train_test_split\n",
        "from sklearn.preprocessing import StandardScaler\n",
        "from sklearn.neighbors import KNeighborsClassifier\n",
        "from sklearn.metrics import accuracy_score\n",
        "import matplotlib.pyplot as plt"
      ]
    },
    {
      "cell_type": "markdown",
      "metadata": {
        "id": "qmdFbkPI8aW8"
      },
      "source": [
        "# Carregamento dos dados:"
      ]
    },
    {
      "cell_type": "code",
      "execution_count": null,
      "metadata": {
        "colab": {
          "base_uri": "https://localhost:8080/"
        },
        "id": "9hXfHGOK8dW0",
        "outputId": "a016fa84-0e40-4d36-8bfd-8ff5e374a214"
      },
      "outputs": [],
      "source": [
        "url = \"https://raw.githubusercontent.com/professortiagoinfnet/inteligencia_artificial/main/heart.csv\"\n",
        "df = pd.read_csv(url)\n",
        "\n",
        "print(df.head())\n",
        "print(df.info())"
      ]
    },
    {
      "cell_type": "markdown",
      "metadata": {
        "id": "zXEdovaM8v9Z"
      },
      "source": [
        "# Divisão dos dados"
      ]
    },
    {
      "cell_type": "code",
      "execution_count": 11,
      "metadata": {
        "id": "idmdP30q81vT"
      },
      "outputs": [],
      "source": [
        "X = df.drop(\"HeartDisease\", axis=1)\n",
        "y = df[\"HeartDisease\"]"
      ]
    },
    {
      "cell_type": "markdown",
      "metadata": {
        "id": "uLcfjFstAFHL"
      },
      "source": [
        "Tranformando variáveis categóricas em variáveis numéricas para realizar o scaling"
      ]
    },
    {
      "cell_type": "code",
      "execution_count": 12,
      "metadata": {
        "id": "pFMxgpu2ADTD"
      },
      "outputs": [],
      "source": [
        "X = pd.get_dummies(X)"
      ]
    },
    {
      "cell_type": "markdown",
      "metadata": {
        "id": "HHBkV0uIE3fy"
      },
      "source": [
        "Dividindo 80% dos dados para treino e 20% para validação"
      ]
    },
    {
      "cell_type": "code",
      "execution_count": 13,
      "metadata": {
        "id": "H2Y_nUJ4_7XF"
      },
      "outputs": [],
      "source": [
        "X_train, X_val, y_train, y_val = train_test_split(X, y, test_size=0.2, random_state=42, stratify=y)"
      ]
    },
    {
      "cell_type": "markdown",
      "metadata": {
        "id": "kYHkWkUc9MNM"
      },
      "source": [
        "# Transformação dos dados:"
      ]
    },
    {
      "cell_type": "code",
      "execution_count": 14,
      "metadata": {
        "id": "jhoC7wKG9Oi_"
      },
      "outputs": [],
      "source": [
        "scaler = StandardScaler()\n",
        "X_train_scaled = scaler.fit_transform(X_train)\n",
        "X_val_scaled = scaler.transform(X_val)"
      ]
    },
    {
      "cell_type": "markdown",
      "metadata": {
        "id": "thL3dD-O9Zqs"
      },
      "source": [
        "# Modelagem com KNN"
      ]
    },
    {
      "cell_type": "code",
      "execution_count": 16,
      "metadata": {
        "colab": {
          "base_uri": "https://localhost:8080/"
        },
        "id": "j7DbvU_R9bKl",
        "outputId": "1747b888-c44e-4291-9e51-26af265731cd"
      },
      "outputs": [
        {
          "name": "stdout",
          "output_type": "stream",
          "text": [
            "Acurácia com K=5: 0.9185\n"
          ]
        }
      ],
      "source": [
        "knn = KNeighborsClassifier(n_neighbors=5)\n",
        "knn.fit(X_train_scaled, y_train)\n",
        "\n",
        "y_pred = knn.predict(X_val_scaled)\n",
        "\n",
        "accuracy = accuracy_score(y_val, y_pred)\n",
        "print(f\"Acurácia com K=5: {accuracy:.4f}\")"
      ]
    },
    {
      "cell_type": "markdown",
      "metadata": {
        "id": "LEpmCT2ZAfrZ"
      },
      "source": [
        "# Análise do parâmetro K"
      ]
    },
    {
      "cell_type": "code",
      "execution_count": 17,
      "metadata": {
        "id": "zCLgLBqqAjEL"
      },
      "outputs": [],
      "source": [
        "k_range = range(1, 21)\n",
        "accuracies = []\n",
        "\n",
        "for k in k_range:\n",
        "  model = KNeighborsClassifier(n_neighbors=k)\n",
        "  model.fit(X_train_scaled, y_train)\n",
        "  y_pred_k = model.predict(X_val_scaled)\n",
        "  acc = accuracy_score(y_val, y_pred_k)\n",
        "  accuracies.append(acc)"
      ]
    },
    {
      "cell_type": "markdown",
      "metadata": {
        "id": "9LMg5dAqA-oB"
      },
      "source": [
        "# Plotando os resultados"
      ]
    },
    {
      "cell_type": "code",
      "execution_count": null,
      "metadata": {
        "colab": {
          "base_uri": "https://localhost:8080/",
          "height": 472
        },
        "id": "9IfAa5gqBA8n",
        "outputId": "6d08c67b-c5ef-4f82-9c70-aa3d1811e7e6"
      },
      "outputs": [],
      "source": [
        "plt.plot(k_range, accuracies, marker='o')\n",
        "plt.title('Variação de acurácia com diferentes valores de K')\n",
        "plt.xlabel('Valor de K')\n",
        "plt.ylabel('Acurácia')\n",
        "plt.grid(True)\n",
        "plt.show()"
      ]
    }
  ],
  "metadata": {
    "colab": {
      "provenance": []
    },
    "kernelspec": {
      "display_name": "Python 3",
      "name": "python3"
    },
    "language_info": {
      "name": "python"
    }
  },
  "nbformat": 4,
  "nbformat_minor": 0
}
